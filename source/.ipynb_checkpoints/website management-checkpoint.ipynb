{
 "cells": [
  {
   "cell_type": "code",
   "execution_count": 1,
   "id": "b1e21c4d",
   "metadata": {},
   "outputs": [],
   "source": [
    "import tkinter as tk\n",
    "import tkinter.messagebox\n",
    "from tkinter import ttk\n",
    "from functools import partial"
   ]
  },
  {
   "cell_type": "code",
   "execution_count": 2,
   "id": "5168eb6b",
   "metadata": {},
   "outputs": [],
   "source": [
    "global web_name,web_express,entry_web,entry_web_express,but_web\n",
    "global cmb_name,entry_cmb,but_cmb\n",
    "global web_list\n",
    "global txt_name,cmb"
   ]
  },
  {
   "cell_type": "code",
   "execution_count": 3,
   "id": "21f4f81d",
   "metadata": {},
   "outputs": [
    {
     "data": {
      "text/plain": [
       "''"
      ]
     },
     "execution_count": 3,
     "metadata": {},
     "output_type": "execute_result"
    }
   ],
   "source": [
    "root=tk.Tk()\n",
    "root.attributes(\"-topmost\", True)\n",
    "root.resizable(False,False)\n",
    "root.geometry(\"800x600+350+120\")"
   ]
  },
  {
   "cell_type": "code",
   "execution_count": 4,
   "id": "fe29cb5b",
   "metadata": {},
   "outputs": [],
   "source": [
    "def get_content(path):#获取.txt中的内容放到list中\n",
    "    f=open(path,'r',encoding='utf-8')\n",
    "    list=f.readlines()\n",
    "    f.close()\n",
    "    return list\n",
    "def create_new_txt(path):#创建新的.txt\n",
    "    f=open(path,'w',encoding='utf-8')\n",
    "    f.close()\n",
    "def add_line_txt(path,content):#在.txt文件中加入一行\n",
    "    f=open(path,'a',encoding='utf-8')\n",
    "    f.write(content)\n",
    "    f.close()\n",
    "\n",
    "def set_cmb():#将combobox中的内容设为\"allcmb.txt\"\n",
    "    cmb['value']=get_content(\"allcmb.txt\")\n",
    "def set_web():#将listbox中的内容设为对应文件的内容\n",
    "    txt_exp_path=txt_name.get().rstrip('\\n')+\"_exp.txt\"\n",
    "    web_list.delete(0,\"end\")\n",
    "    all_web_exp=get_content(txt_exp_path)\n",
    "    for item in all_web_exp:\n",
    "        web_list.insert(\"end\",item)\n",
    "    \n",
    "def add_cmb():#添加选项\n",
    "    new_cmb=cmb_name.get()\n",
    "    if new_cmb=='':\n",
    "        return\n",
    "    #写入\"allcmb.txt\"\n",
    "    add_line_txt(\"allcmb.txt\",new_cmb.rstrip('\\n')+'\\n')\n",
    "    #更新combobox\n",
    "    set_cmb()\n",
    "    #创建新文件 .txt和_exp.txt\n",
    "    create_new_txt(new_cmb+\".txt\")\n",
    "    create_new_txt(new_cmb+\"_exp.txt\")\n",
    "    #输入的entry清空\n",
    "    cmb_name.set('')\n",
    "\n",
    "def add_web():#在该选项添加网址\n",
    "    txt_path=txt_name.get().rstrip('\\n')+\".txt\"\n",
    "    txt_exp_path=txt_name.get().rstrip('\\n')+\"_exp.txt\"\n",
    "    new_web=web_name.get().rstrip('\\n')+'\\n'\n",
    "    new_web_exp=web_express.get().rstrip('\\n')+'\\n'\n",
    "    if new_web=='':\n",
    "        return\n",
    "    if new_web_exp=='':\n",
    "        return\n",
    "    #.txt存入网站,_exp.txt 存入网站说明\n",
    "    add_line_txt(txt_path,new_web)\n",
    "    add_line_txt(txt_exp_path,new_web_exp)\n",
    "    #更新list\n",
    "    set_web()\n",
    "\n",
    "def change(event):\n",
    "    set_web()\n",
    "def open_url(event):\n",
    "    if not web_list.curselection():#如果没有网站，则获取不了选择的index\n",
    "        return\n",
    "    selected_index=web_list.curselection()[0]\n",
    "    txt_path=txt_name.get().rstrip('\\n')+\".txt\"\n",
    "    all_web=get_content(txt_path)\n",
    "    str=all_web[selected_index]\n",
    "    import webbrowser\n",
    "    webbrowser.open(str,new=0)"
   ]
  },
  {
   "cell_type": "code",
   "execution_count": 5,
   "id": "0460edad",
   "metadata": {},
   "outputs": [
    {
     "data": {
      "text/plain": [
       "'2823466599936change'"
      ]
     },
     "execution_count": 5,
     "metadata": {},
     "output_type": "execute_result"
    }
   ],
   "source": [
    "#选择框\n",
    "txt_name=tkinter.StringVar()\n",
    "cmb=ttk.Combobox(root,textvariable=txt_name)\n",
    "set_cmb()\n",
    "cmb.place(x=600,y=50,width=90,height=50)\n",
    "cmb.bind(\"<<ComboboxSelected>>\",change)"
   ]
  },
  {
   "cell_type": "code",
   "execution_count": 6,
   "id": "9e861b80",
   "metadata": {},
   "outputs": [
    {
     "data": {
      "text/plain": [
       "'2823466579968open_url'"
      ]
     },
     "execution_count": 6,
     "metadata": {},
     "output_type": "execute_result"
    }
   ],
   "source": [
    "#list框,显示选项的网站内容\n",
    "web_list=tk.Listbox(root)\n",
    "web_list.place(x=0,y=0,width=500,height=800)\n",
    "web_list.bind(\"<<ListboxSelect>> \",open_url)"
   ]
  },
  {
   "cell_type": "code",
   "execution_count": 7,
   "id": "2b56edb5",
   "metadata": {},
   "outputs": [],
   "source": [
    "#加入新选项\n",
    "cmb_name=tkinter.StringVar()\n",
    "entry_cmb=tk.Entry(root,textvariable=cmb_name)\n",
    "\n",
    "but_cmb=tk.Button(root,text=\"添加新收藏夹\",command=add_cmb)\n",
    "\n",
    "entry_cmb.place(x=510,y=150,width=280,height=50)\n",
    "but_cmb.place(x=610,y=210,width=90,height=50)"
   ]
  },
  {
   "cell_type": "code",
   "execution_count": 8,
   "id": "a6b4a5bf",
   "metadata": {},
   "outputs": [],
   "source": [
    "#加入新网站\n",
    "web_name=tkinter.StringVar()\n",
    "web_express=tkinter.StringVar()\n",
    "\n",
    "entry_web=tk.Entry(root,text=\"网站地址\",textvariable=web_name)\n",
    "entry_web_express=tk.Entry(root,text=\"网站说明\",textvariable=web_express)\n",
    "\n",
    "but_web=tk.Button(root,text=\"添加新网站\",command=add_web)\n",
    "\n",
    "entry_web.place(x=510,y=350,width=280,height=50)\n",
    "entry_web_express.place(x=510,y=420,width=280,height=50)\n",
    "but_web.place(x=610,y=500,width=90,height=50)"
   ]
  },
  {
   "cell_type": "code",
   "execution_count": 9,
   "id": "56c42a9a",
   "metadata": {},
   "outputs": [],
   "source": [
    "tk.mainloop()"
   ]
  },
  {
   "cell_type": "code",
   "execution_count": null,
   "id": "9c8817bc",
   "metadata": {},
   "outputs": [],
   "source": []
  },
  {
   "cell_type": "code",
   "execution_count": null,
   "id": "d9032d5c",
   "metadata": {},
   "outputs": [],
   "source": []
  }
 ],
 "metadata": {
  "kernelspec": {
   "display_name": "Python 3 (ipykernel)",
   "language": "python",
   "name": "python3"
  },
  "language_info": {
   "codemirror_mode": {
    "name": "ipython",
    "version": 3
   },
   "file_extension": ".py",
   "mimetype": "text/x-python",
   "name": "python",
   "nbconvert_exporter": "python",
   "pygments_lexer": "ipython3",
   "version": "3.9.7"
  },
  "toc": {
   "base_numbering": 1,
   "nav_menu": {},
   "number_sections": true,
   "sideBar": true,
   "skip_h1_title": false,
   "title_cell": "Table of Contents",
   "title_sidebar": "Contents",
   "toc_cell": false,
   "toc_position": {},
   "toc_section_display": true,
   "toc_window_display": false
  }
 },
 "nbformat": 4,
 "nbformat_minor": 5
}
